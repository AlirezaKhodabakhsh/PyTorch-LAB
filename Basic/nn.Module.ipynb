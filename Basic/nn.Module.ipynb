{
 "cells": [
  {
   "cell_type": "code",
   "execution_count": 6,
   "metadata": {
    "collapsed": true
   },
   "outputs": [],
   "source": [
    "import torch\n",
    "from torch import nn\n",
    "from torch.nn.parameter import Parameter"
   ]
  },
  {
   "cell_type": "markdown",
   "source": [
    "# Module (Parents class)"
   ],
   "metadata": {
    "collapsed": false
   }
  },
  {
   "cell_type": "code",
   "source": [
    "class Net(nn.Module):\n",
    "    def __init__(self):\n",
    "        super().__init__()\n",
    "\n",
    "        self.dense1 = self.dense(784, 256)\n",
    "\n",
    "    def dense(self, node_i, node_o):\n",
    "        return nn.Sequential(\n",
    "            nn.Linear(node_i, node_o),\n",
    "            nn.ReLU(inplace=True)\n",
    "        )\n",
    "\n",
    "    def forward(self, x):\n",
    "        return nn.Sequential(\n",
    "            self._modules\n",
    "        )(x)"
   ],
   "metadata": {
    "collapsed": false,
    "pycharm": {
     "name": "#%%\n"
    }
   },
   "execution_count": 337,
   "outputs": []
  },
  {
   "cell_type": "code",
   "execution_count": 344,
   "outputs": [],
   "source": [
    "# get instance from my class\n",
    "model = Net()\n",
    "# data\n",
    "data=torch.normal(mean=torch.zeros(1000,784), std = torch.ones(1000,784))"
   ],
   "metadata": {
    "collapsed": false,
    "pycharm": {
     "name": "#%%\n"
    }
   }
  },
  {
   "cell_type": "markdown",
   "source": [
    "# Properties"
   ],
   "metadata": {
    "collapsed": false
   }
  },
  {
   "cell_type": "markdown",
   "source": [
    "### training"
   ],
   "metadata": {
    "collapsed": false
   }
  },
  {
   "cell_type": "code",
   "execution_count": 345,
   "outputs": [
    {
     "data": {
      "text/plain": "True"
     },
     "execution_count": 345,
     "metadata": {},
     "output_type": "execute_result"
    }
   ],
   "source": [
    "# by default this property for your module always TRUE\n",
    "model.training"
   ],
   "metadata": {
    "collapsed": false,
    "pycharm": {
     "name": "#%%\n"
    }
   }
  },
  {
   "cell_type": "code",
   "execution_count": 346,
   "outputs": [
    {
     "data": {
      "text/plain": "False"
     },
     "execution_count": 346,
     "metadata": {},
     "output_type": "execute_result"
    }
   ],
   "source": [
    "# but, if I use this method (one of methods of nn.Module), this property will change.\n",
    "model.eval()\n",
    "model.training"
   ],
   "metadata": {
    "collapsed": false,
    "pycharm": {
     "name": "#%%\n"
    }
   }
  },
  {
   "cell_type": "markdown",
   "source": [
    "\n",
    "### _modules"
   ],
   "metadata": {
    "collapsed": false
   }
  },
  {
   "cell_type": "code",
   "execution_count": 347,
   "outputs": [
    {
     "name": "stdout",
     "output_type": "stream",
     "text": [
      "1\n"
     ]
    }
   ],
   "source": [
    "# model have just two submodule\n",
    "print(len(model._modules))"
   ],
   "metadata": {
    "collapsed": false,
    "pycharm": {
     "name": "#%%\n"
    }
   }
  },
  {
   "cell_type": "code",
   "execution_count": 348,
   "outputs": [
    {
     "data": {
      "text/plain": "OrderedDict([('dense1',\n              Sequential(\n                (0): Linear(in_features=784, out_features=256, bias=True)\n                (1): ReLU(inplace=True)\n              ))])"
     },
     "execution_count": 348,
     "metadata": {},
     "output_type": "execute_result"
    }
   ],
   "source": [
    "model._modules"
   ],
   "metadata": {
    "collapsed": false,
    "pycharm": {
     "name": "#%%\n"
    }
   }
  },
  {
   "cell_type": "markdown",
   "source": [
    "### _parameters"
   ],
   "metadata": {
    "collapsed": false
   }
  },
  {
   "cell_type": "code",
   "execution_count": 349,
   "outputs": [
    {
     "data": {
      "text/plain": "OrderedDict()"
     },
     "execution_count": 349,
     "metadata": {},
     "output_type": "execute_result"
    }
   ],
   "source": [
    "# my model have NOT parameter.\n",
    "model._parameters"
   ],
   "metadata": {
    "collapsed": false,
    "pycharm": {
     "name": "#%%\n"
    }
   }
  },
  {
   "cell_type": "code",
   "execution_count": 350,
   "outputs": [
    {
     "data": {
      "text/plain": "OrderedDict()"
     },
     "execution_count": 350,
     "metadata": {},
     "output_type": "execute_result"
    }
   ],
   "source": [
    "# also for \"dense1\" submodule, have NOT parameters\n",
    "model.get_submodule('dense1')._parameters"
   ],
   "metadata": {
    "collapsed": false,
    "pycharm": {
     "name": "#%%\n"
    }
   }
  },
  {
   "cell_type": "code",
   "execution_count": 351,
   "outputs": [
    {
     "data": {
      "text/plain": "OrderedDict([('weight',\n              Parameter containing:\n              tensor([[-0.0164, -0.0070, -0.0192,  ..., -0.0062,  0.0157,  0.0218],\n                      [-0.0002, -0.0090, -0.0345,  ..., -0.0232, -0.0289, -0.0096],\n                      [ 0.0284, -0.0061,  0.0154,  ...,  0.0067,  0.0284, -0.0330],\n                      ...,\n                      [ 0.0323, -0.0185, -0.0141,  ..., -0.0013, -0.0272, -0.0304],\n                      [ 0.0042,  0.0242,  0.0149,  ...,  0.0307,  0.0130, -0.0241],\n                      [-0.0147, -0.0175,  0.0271,  ...,  0.0081, -0.0058,  0.0226]],\n                     requires_grad=True)),\n             ('bias',\n              Parameter containing:\n              tensor([ 3.5076e-02, -8.2340e-03,  3.1857e-02,  2.5620e-02,  1.4391e-02,\n                       2.1441e-02,  3.0662e-02, -1.4902e-02,  3.1847e-03, -1.6371e-02,\n                       2.3757e-02, -3.5535e-02,  1.5013e-02, -2.0158e-02,  3.3936e-02,\n                      -3.4409e-02,  9.9436e-03,  1.0451e-02, -2.8609e-02, -2.2931e-03,\n                       2.7787e-02,  3.0655e-02,  2.5457e-02, -3.5535e-02, -2.3340e-02,\n                      -1.6928e-04,  4.8474e-03,  2.1077e-02,  3.1355e-02,  2.2201e-02,\n                      -2.5241e-02,  7.7730e-03, -1.5543e-02,  1.8594e-02, -2.9581e-02,\n                      -2.1442e-02, -2.1395e-03, -6.6683e-04,  1.4921e-03, -8.2688e-03,\n                       1.9368e-02,  3.5137e-02, -2.6080e-02, -5.7985e-03,  3.1715e-02,\n                      -2.8221e-02, -2.6955e-02,  3.1531e-02, -1.5311e-02,  3.8707e-03,\n                       2.0920e-02, -2.4103e-02,  2.0425e-02, -5.0520e-03,  3.2475e-02,\n                       3.1566e-02, -6.7738e-03,  2.1785e-02, -1.2913e-02, -2.5782e-02,\n                       3.1285e-05,  1.6826e-02,  2.0518e-02, -5.0364e-03, -1.8136e-02,\n                       2.8250e-02,  1.4422e-02,  6.8505e-03,  2.0412e-02, -2.3387e-03,\n                       1.3844e-02, -2.9042e-02, -1.0156e-03,  3.0953e-02, -1.5757e-03,\n                       1.4107e-02, -3.2478e-03,  1.7328e-02, -1.8616e-02,  2.7933e-02,\n                      -1.4873e-02,  2.2161e-02,  1.7417e-02,  2.0817e-02,  1.4269e-02,\n                       2.8107e-02,  1.9223e-02, -1.0746e-02,  8.9188e-03,  2.5125e-02,\n                       5.2609e-03,  1.0833e-02, -3.2008e-02, -1.3045e-02, -3.3172e-02,\n                       3.3278e-03,  3.4573e-02, -1.6671e-02, -5.0678e-03,  2.2449e-02,\n                      -2.3822e-02,  9.4673e-03, -3.3932e-02, -1.5471e-02, -3.4228e-02,\n                      -1.9582e-02,  7.2865e-03, -9.2766e-03, -2.4809e-02,  2.8660e-02,\n                      -2.7284e-02,  2.5310e-02,  1.8933e-02, -2.6648e-02, -4.4656e-03,\n                      -4.5849e-03,  1.9460e-02, -1.7426e-02, -1.6109e-02, -1.7838e-02,\n                      -1.0851e-02,  1.8221e-03,  2.0613e-02, -6.6974e-04,  6.2230e-03,\n                       2.1153e-03,  5.3490e-03, -1.5272e-02,  3.2878e-02,  5.8005e-03,\n                       2.3971e-03,  2.2989e-02,  6.5524e-03,  1.5220e-02,  3.3799e-02,\n                       2.7131e-03,  2.1940e-02,  2.2826e-02,  1.8497e-02,  1.1538e-02,\n                      -4.4021e-04,  1.0873e-02,  1.4976e-02,  2.0066e-02,  3.3068e-02,\n                      -2.1215e-02,  2.2172e-02, -2.7296e-02, -5.7732e-03, -1.4174e-02,\n                      -1.2354e-02, -2.3353e-02, -1.8441e-02,  1.2779e-02, -3.2890e-02,\n                      -3.0959e-02,  1.8514e-02,  2.5664e-02,  2.6665e-02, -2.3514e-02,\n                      -2.3735e-02, -1.1800e-02,  5.0386e-03, -6.4239e-03, -1.2587e-02,\n                       1.2455e-02,  2.8417e-02,  3.5501e-03,  5.7823e-03, -8.4734e-03,\n                      -1.7804e-02, -6.5496e-03, -2.4349e-02, -1.6045e-02, -1.5411e-03,\n                      -4.9514e-03, -5.3425e-03,  1.2165e-02, -7.4651e-03,  9.5008e-03,\n                      -3.1886e-02,  3.5873e-03,  1.3879e-03,  1.7706e-02,  1.9032e-02,\n                      -8.4359e-04,  3.3143e-02, -6.8775e-03, -7.4207e-03,  3.1734e-02,\n                       3.0495e-02, -2.2659e-03,  2.6146e-02, -6.0512e-04,  3.3496e-03,\n                      -1.5802e-03,  3.2601e-03, -7.6518e-03,  1.1321e-02, -1.6037e-02,\n                      -6.5008e-03, -1.3850e-02, -6.3040e-03,  2.0845e-02,  3.1659e-02,\n                      -2.4885e-02, -8.4981e-03, -3.5612e-02, -1.6335e-02,  3.0874e-02,\n                       8.6004e-03,  1.4558e-02,  2.0076e-03, -2.3391e-02,  3.3677e-02,\n                       1.7392e-02, -2.0562e-02, -4.3321e-03, -1.9076e-02,  1.1486e-02,\n                       3.4511e-02, -3.4644e-02, -1.5275e-02,  1.6120e-02,  3.3363e-02,\n                       3.5552e-03, -3.3882e-02,  6.0747e-03, -2.9227e-02, -2.0227e-02,\n                      -2.2838e-02,  1.8000e-02, -2.2614e-02,  1.0182e-02, -2.6104e-02,\n                       2.7746e-02, -4.4324e-03,  2.1981e-02,  5.7824e-03, -3.4439e-02,\n                       5.1621e-03,  3.5518e-02, -7.1680e-03,  2.1650e-02, -2.0760e-02,\n                       2.0944e-03, -2.5248e-02, -1.2206e-02,  1.7912e-02, -2.2042e-02,\n                       3.3406e-02,  2.9208e-02, -2.5233e-02, -6.7189e-03, -2.6948e-02,\n                      -1.3192e-02], requires_grad=True))])"
     },
     "execution_count": 351,
     "metadata": {},
     "output_type": "execute_result"
    }
   ],
   "source": [
    "# but, here we have two Parameter.\n",
    "model.get_submodule('dense1').get_submodule('0')._parameters"
   ],
   "metadata": {
    "collapsed": false,
    "pycharm": {
     "name": "#%%\n"
    }
   }
  },
  {
   "cell_type": "code",
   "execution_count": 352,
   "outputs": [
    {
     "name": "stdout",
     "output_type": "stream",
     "text": [
      "OrderedDict([('ali', Parameter containing:\n",
      "tensor([1., 2., 3.], requires_grad=True))])\n"
     ]
    }
   ],
   "source": [
    "# we add one additional property JUST to model (instance of class Net)\n",
    "model.ali = nn.parameter.Parameter(torch.tensor([1,2,3], dtype = torch.float))\n",
    "# NOW, our Module have Parameter.\n",
    "print(model._parameters)"
   ],
   "metadata": {
    "collapsed": false,
    "pycharm": {
     "name": "#%%\n"
    }
   }
  },
  {
   "cell_type": "markdown",
   "source": [
    "# Methods"
   ],
   "metadata": {
    "collapsed": false
   }
  },
  {
   "cell_type": "markdown",
   "source": [
    "### add_module"
   ],
   "metadata": {
    "collapsed": false
   }
  },
  {
   "cell_type": "code",
   "execution_count": 353,
   "outputs": [],
   "source": [
    "# data\n",
    "data=torch.normal(mean=torch.zeros(1000,784), std = torch.ones(1000,784))"
   ],
   "metadata": {
    "collapsed": false,
    "pycharm": {
     "name": "#%%\n"
    }
   }
  },
  {
   "cell_type": "code",
   "execution_count": 354,
   "outputs": [
    {
     "name": "stdout",
     "output_type": "stream",
     "text": [
      "Net(\n",
      "  (dense1): Sequential(\n",
      "    (0): Linear(in_features=784, out_features=256, bias=True)\n",
      "    (1): ReLU(inplace=True)\n",
      "  )\n",
      ")\n"
     ]
    }
   ],
   "source": [
    "model = Net()\n",
    "print(model)"
   ],
   "metadata": {
    "collapsed": false,
    "pycharm": {
     "name": "#%%\n"
    }
   }
  },
  {
   "cell_type": "code",
   "execution_count": 228,
   "outputs": [
    {
     "name": "stdout",
     "output_type": "stream",
     "text": [
      "Net(\n",
      "  (dense1): Sequential(\n",
      "    (0): Linear(in_features=784, out_features=256, bias=True)\n",
      "    (1): ReLU(inplace=True)\n",
      "  )\n",
      "  (dense2): Sequential(\n",
      "    (0): Linear(in_features=256, out_features=10, bias=True)\n",
      "    (1): ReLU(inplace=True)\n",
      "  )\n",
      ")\n"
     ]
    }
   ],
   "source": [
    "# add module\n",
    "model.add_module('dense2', model.dense(256, 10))\n",
    "print(model)"
   ],
   "metadata": {
    "collapsed": false,
    "pycharm": {
     "name": "#%%\n"
    }
   }
  },
  {
   "cell_type": "code",
   "execution_count": 229,
   "outputs": [
    {
     "data": {
      "text/plain": "torch.Size([1000, 10])"
     },
     "execution_count": 229,
     "metadata": {},
     "output_type": "execute_result"
    }
   ],
   "source": [
    "# feed data\n",
    "model(data).shape"
   ],
   "metadata": {
    "collapsed": false,
    "pycharm": {
     "name": "#%%\n"
    }
   }
  },
  {
   "cell_type": "code",
   "execution_count": 230,
   "outputs": [
    {
     "data": {
      "text/plain": "torch.Size([1000, 10])"
     },
     "execution_count": 230,
     "metadata": {},
     "output_type": "execute_result"
    }
   ],
   "source": [
    "model(data).shape"
   ],
   "metadata": {
    "collapsed": false,
    "pycharm": {
     "name": "#%%\n"
    }
   }
  },
  {
   "cell_type": "markdown",
   "source": [],
   "metadata": {
    "collapsed": false
   }
  },
  {
   "cell_type": "markdown",
   "source": [
    "### get_submodule"
   ],
   "metadata": {
    "collapsed": false
   }
  },
  {
   "cell_type": "code",
   "execution_count": 355,
   "outputs": [
    {
     "data": {
      "text/plain": "Sequential(\n  (0): Linear(in_features=784, out_features=256, bias=True)\n  (1): ReLU(inplace=True)\n)"
     },
     "execution_count": 355,
     "metadata": {},
     "output_type": "execute_result"
    }
   ],
   "source": [
    "# model : is sub-module of nn.Module (children of nn.Module)\n",
    "# dense1 & dense2 : are sub-modules of model (children of model)\n",
    "# 0 & 1 : are sub-modules of dense1&dense2 (children of dense1 and dense2)\n",
    "\n",
    "model.get_submodule('dense1')"
   ],
   "metadata": {
    "collapsed": false,
    "pycharm": {
     "name": "#%%\n"
    }
   }
  },
  {
   "cell_type": "code",
   "execution_count": 356,
   "outputs": [
    {
     "data": {
      "text/plain": "Linear(in_features=784, out_features=256, bias=True)"
     },
     "execution_count": 356,
     "metadata": {},
     "output_type": "execute_result"
    }
   ],
   "source": [
    "model.get_submodule('dense1').get_submodule('0')"
   ],
   "metadata": {
    "collapsed": false,
    "pycharm": {
     "name": "#%%\n"
    }
   }
  },
  {
   "cell_type": "markdown",
   "source": [
    "### get_parameter"
   ],
   "metadata": {
    "collapsed": false
   }
  },
  {
   "cell_type": "code",
   "execution_count": 183,
   "outputs": [
    {
     "data": {
      "text/plain": "Parameter containing:\ntensor([[ 0.0138,  0.0048,  0.0201,  ..., -0.0185,  0.0333, -0.0121],\n        [-0.0251,  0.0025, -0.0223,  ..., -0.0217, -0.0083,  0.0170],\n        [ 0.0333, -0.0191, -0.0211,  ...,  0.0224,  0.0013,  0.0220],\n        ...,\n        [ 0.0179,  0.0356, -0.0293,  ...,  0.0242,  0.0310,  0.0072],\n        [-0.0113, -0.0092,  0.0021,  ...,  0.0073, -0.0246, -0.0281],\n        [ 0.0269,  0.0245,  0.0084,  ...,  0.0303,  0.0278, -0.0273]],\n       requires_grad=True)"
     },
     "execution_count": 183,
     "metadata": {},
     "output_type": "execute_result"
    }
   ],
   "source": [
    "model.get_submodule('dense1').get_submodule('0').get_parameter('weight')"
   ],
   "metadata": {
    "collapsed": false,
    "pycharm": {
     "name": "#%%\n"
    }
   }
  },
  {
   "cell_type": "markdown",
   "source": [
    "### children"
   ],
   "metadata": {
    "collapsed": false
   }
  },
  {
   "cell_type": "code",
   "execution_count": 186,
   "outputs": [
    {
     "name": "stdout",
     "output_type": "stream",
     "text": [
      "Sequential(\n",
      "  (0): Linear(in_features=784, out_features=256, bias=True)\n",
      "  (1): ReLU(inplace=True)\n",
      ")\n",
      "Sequential(\n",
      "  (0): Linear(in_features=256, out_features=10, bias=True)\n",
      "  (1): ReLU(inplace=True)\n",
      ")\n"
     ]
    }
   ],
   "source": [
    "ch = model.children() # remember : children method in nn.Module, is a iterator\n",
    "\n",
    "for i in ch:\n",
    "    print(i)"
   ],
   "metadata": {
    "collapsed": false,
    "pycharm": {
     "name": "#%%\n"
    }
   }
  },
  {
   "cell_type": "markdown",
   "source": [
    "### apply"
   ],
   "metadata": {
    "collapsed": false
   }
  },
  {
   "cell_type": "markdown",
   "source": [
    "##### Mechanism"
   ],
   "metadata": {
    "collapsed": false
   }
  },
  {
   "cell_type": "code",
   "execution_count": 300,
   "outputs": [
    {
     "name": "stdout",
     "output_type": "stream",
     "text": [
      "Net(\n",
      "  (dense1): Sequential(\n",
      "    (0): Linear(in_features=784, out_features=256, bias=True)\n",
      "    (1): ReLU(inplace=True)\n",
      "  )\n",
      "  (dense2): Sequential(\n",
      "    (0): Linear(in_features=256, out_features=10, bias=True)\n",
      "    (1): ReLU(inplace=True)\n",
      "  )\n",
      ")\n"
     ]
    }
   ],
   "source": [
    "print(model)"
   ],
   "metadata": {
    "collapsed": false,
    "pycharm": {
     "name": "#%%\n"
    }
   }
  },
  {
   "cell_type": "code",
   "execution_count": 302,
   "outputs": [
    {
     "name": "stdout",
     "output_type": "stream",
     "text": [
      "Sequential(\n",
      "  (0): Linear(in_features=784, out_features=256, bias=True)\n",
      "  (1): ReLU(inplace=True)\n",
      ")\n",
      "Sequential(\n",
      "  (0): Linear(in_features=256, out_features=10, bias=True)\n",
      "  (1): ReLU(inplace=True)\n",
      ")\n",
      "I have 2 sub-module\n"
     ]
    }
   ],
   "source": [
    "# sub-modules of my model\n",
    "k=0\n",
    "for i in model.children():\n",
    "    print(i)\n",
    "    k+=1\n",
    "LU(inplace=Tprint(\"I have {} sub-module\".format(k))"
   ],
   "metadata": {
    "collapsed": false,
    "pycharm": {
     "name": "#%%\n"
    }
   }
  },
  {
   "cell_type": "code",
   "execution_count": 312,
   "outputs": [],
   "source": [
    "# \"apply method\" get a function on submodules.\n",
    "def fn_1(submodule):\n",
    "    print(\" \")\n",
    "    print(submodule)\n",
    "    print(\" \")"
   ],
   "metadata": {
    "collapsed": false,
    "pycharm": {
     "name": "#%%\n"
    }
   }
  },
  {
   "cell_type": "code",
   "execution_count": 313,
   "outputs": [
    {
     "name": "stdout",
     "output_type": "stream",
     "text": [
      " \n",
      "Linear(in_features=784, out_features=256, bias=True)\n",
      " \n",
      " \n",
      "ReLU(inplace=True)\n",
      " \n",
      " \n",
      "Sequential(\n",
      "  (0): Linear(in_features=784, out_features=256, bias=True)\n",
      "  (1): ReLU(inplace=True)\n",
      ")\n",
      " \n",
      " \n",
      "Linear(in_features=256, out_features=10, bias=True)\n",
      " \n",
      " \n",
      "ReLU(inplace=True)\n",
      " \n",
      " \n",
      "Sequential(\n",
      "  (0): Linear(in_features=256, out_features=10, bias=True)\n",
      "  (1): ReLU(inplace=True)\n",
      ")\n",
      " \n",
      " \n",
      "Net(\n",
      "  (dense1): Sequential(\n",
      "    (0): Linear(in_features=784, out_features=256, bias=True)\n",
      "    (1): ReLU(inplace=True)\n",
      "  )\n",
      "  (dense2): Sequential(\n",
      "    (0): Linear(in_features=256, out_features=10, bias=True)\n",
      "    (1): ReLU(inplace=True)\n",
      "  )\n",
      ")\n",
      " \n"
     ]
    },
    {
     "data": {
      "text/plain": "Net(\n  (dense1): Sequential(\n    (0): Linear(in_features=784, out_features=256, bias=True)\n    (1): ReLU(inplace=True)\n  )\n  (dense2): Sequential(\n    (0): Linear(in_features=256, out_features=10, bias=True)\n    (1): ReLU(inplace=True)\n  )\n)"
     },
     "execution_count": 313,
     "metadata": {},
     "output_type": "execute_result"
    }
   ],
   "source": [
    "# How word apply\n",
    "model.apply(fn_1)"
   ],
   "metadata": {
    "collapsed": false,
    "pycharm": {
     "name": "#%%\n"
    }
   }
  },
  {
   "cell_type": "code",
   "execution_count": 310,
   "outputs": [],
   "source": [
    "# just find submodules in my model that is in nn.Linear class\n",
    "def fn_2(submodule):\n",
    "    if isinstance(submodule, nn.Linear):\n",
    "        print(\" \")\n",
    "        print(submodule)\n",
    "        print(\" \")"
   ],
   "metadata": {
    "collapsed": false,
    "pycharm": {
     "name": "#%%\n"
    }
   }
  },
  {
   "cell_type": "code",
   "execution_count": 311,
   "outputs": [
    {
     "name": "stdout",
     "output_type": "stream",
     "text": [
      " \n",
      "Linear(in_features=784, out_features=256, bias=True)\n",
      " \n",
      " \n",
      "Linear(in_features=256, out_features=10, bias=True)\n",
      " \n"
     ]
    },
    {
     "data": {
      "text/plain": "Net(\n  (dense1): Sequential(\n    (0): Linear(in_features=784, out_features=256, bias=True)\n    (1): ReLU(inplace=True)\n  )\n  (dense2): Sequential(\n    (0): Linear(in_features=256, out_features=10, bias=True)\n    (1): ReLU(inplace=True)\n  )\n)"
     },
     "execution_count": 311,
     "metadata": {},
     "output_type": "execute_result"
    }
   ],
   "source": [
    "model.apply(fn_2)"
   ],
   "metadata": {
    "collapsed": false,
    "pycharm": {
     "name": "#%%\n"
    }
   }
  },
  {
   "cell_type": "code",
   "execution_count": 314,
   "outputs": [],
   "source": [
    "# just find submodules in my model that is in nn.Linear class\n",
    "def fn_3(submodule):\n",
    "    if isinstance(submodule, nn.ReLU):\n",
    "        print(\" \")\n",
    "        print(submodule)\n",
    "        print(\" \")"
   ],
   "metadata": {
    "collapsed": false,
    "pycharm": {
     "name": "#%%\n"
    }
   }
  },
  {
   "cell_type": "code",
   "execution_count": 315,
   "outputs": [
    {
     "name": "stdout",
     "output_type": "stream",
     "text": [
      " \n",
      "ReLU(inplace=True)\n",
      " \n",
      " \n",
      "ReLU(inplace=True)\n",
      " \n"
     ]
    },
    {
     "data": {
      "text/plain": "Net(\n  (dense1): Sequential(\n    (0): Linear(in_features=784, out_features=256, bias=True)\n    (1): ReLU(inplace=True)\n  )\n  (dense2): Sequential(\n    (0): Linear(in_features=256, out_features=10, bias=True)\n    (1): ReLU(inplace=True)\n  )\n)"
     },
     "execution_count": 315,
     "metadata": {},
     "output_type": "execute_result"
    }
   ],
   "source": [
    "model.apply(fn_3)"
   ],
   "metadata": {
    "collapsed": false,
    "pycharm": {
     "name": "#%%\n"
    }
   }
  },
  {
   "cell_type": "markdown",
   "source": [
    "##### Application"
   ],
   "metadata": {
    "collapsed": false
   }
  },
  {
   "cell_type": "code",
   "execution_count": 317,
   "outputs": [
    {
     "name": "stdout",
     "output_type": "stream",
     "text": [
      "Net(\n",
      "  (dense1): Sequential(\n",
      "    (0): Linear(in_features=784, out_features=256, bias=True)\n",
      "    (1): ReLU(inplace=True)\n",
      "  )\n",
      "  (dense2): Sequential(\n",
      "    (0): Linear(in_features=256, out_features=10, bias=True)\n",
      "    (1): ReLU(inplace=True)\n",
      "  )\n",
      ")\n"
     ]
    }
   ],
   "source": [
    "print(model)"
   ],
   "metadata": {
    "collapsed": false,
    "pycharm": {
     "name": "#%%\n"
    }
   }
  },
  {
   "cell_type": "code",
   "execution_count": 330,
   "outputs": [],
   "source": [
    "def change_weight(submodule):\n",
    "    if isinstance(submodule, nn.Linear):\n",
    "        # we use this function because \"torch.tensor.noraml_\" isn't work on tensors that require_grad is true\n",
    "        nn.init.normal_(submodule.weight, mean=0, std=0.01)\n",
    "        print(f\"{submodule.weight} has been changed\")"
   ],
   "metadata": {
    "collapsed": false,
    "pycharm": {
     "name": "#%%\n"
    }
   }
  },
  {
   "cell_type": "code",
   "execution_count": 331,
   "outputs": [
    {
     "data": {
      "text/plain": "Parameter containing:\ntensor([[-1.5091, -1.7819,  1.9765,  ...,  0.2571,  0.9224,  0.8038],\n        [ 0.9659, -1.3345, -1.1959,  ..., -0.8096, -1.2213, -0.3076],\n        [-0.5866,  0.8363, -1.8263,  ...,  0.1558,  0.7013, -2.5042],\n        ...,\n        [-0.5259,  0.6846, -0.1971,  ..., -0.7972,  0.3515,  1.3830],\n        [ 0.5845, -0.8238,  1.5760,  ..., -0.4524, -1.0270, -1.5766],\n        [ 0.0449, -0.0923, -1.2375,  ...,  0.2052,  0.7739, -1.6613]],\n       requires_grad=True)"
     },
     "execution_count": 331,
     "metadata": {},
     "output_type": "execute_result"
    }
   ],
   "source": [
    "model.get_submodule('dense1').get_submodule('0').weight"
   ],
   "metadata": {
    "collapsed": false,
    "pycharm": {
     "name": "#%%\n"
    }
   }
  },
  {
   "cell_type": "code",
   "execution_count": 332,
   "outputs": [
    {
     "name": "stdout",
     "output_type": "stream",
     "text": [
      "Parameter containing:\n",
      "tensor([[-0.0164,  0.0149,  0.0121,  ..., -0.0135, -0.0038,  0.0002],\n",
      "        [ 0.0115,  0.0014,  0.0051,  ..., -0.0141, -0.0063, -0.0060],\n",
      "        [-0.0099,  0.0091, -0.0016,  ...,  0.0149, -0.0142, -0.0043],\n",
      "        ...,\n",
      "        [ 0.0119, -0.0042,  0.0209,  ...,  0.0135,  0.0135,  0.0173],\n",
      "        [-0.0136,  0.0200,  0.0035,  ..., -0.0014, -0.0106, -0.0118],\n",
      "        [-0.0035,  0.0047,  0.0099,  ...,  0.0006, -0.0003, -0.0056]],\n",
      "       requires_grad=True) has been changed\n",
      "Parameter containing:\n",
      "tensor([[-0.0004,  0.0041, -0.0039,  ..., -0.0046, -0.0099,  0.0157],\n",
      "        [-0.0016,  0.0069, -0.0133,  ...,  0.0039, -0.0045,  0.0044],\n",
      "        [-0.0075,  0.0056, -0.0033,  ...,  0.0047, -0.0174,  0.0044],\n",
      "        ...,\n",
      "        [-0.0157,  0.0063,  0.0094,  ...,  0.0008, -0.0067,  0.0038],\n",
      "        [ 0.0001, -0.0131, -0.0051,  ..., -0.0123, -0.0041, -0.0007],\n",
      "        [-0.0133,  0.0059, -0.0055,  ..., -0.0020, -0.0081,  0.0176]],\n",
      "       requires_grad=True) has been changed\n"
     ]
    },
    {
     "data": {
      "text/plain": "Net(\n  (dense1): Sequential(\n    (0): Linear(in_features=784, out_features=256, bias=True)\n    (1): ReLU(inplace=True)\n  )\n  (dense2): Sequential(\n    (0): Linear(in_features=256, out_features=10, bias=True)\n    (1): ReLU(inplace=True)\n  )\n)"
     },
     "execution_count": 332,
     "metadata": {},
     "output_type": "execute_result"
    }
   ],
   "source": [
    "model.apply(change_weight)"
   ],
   "metadata": {
    "collapsed": false,
    "pycharm": {
     "name": "#%%\n"
    }
   }
  },
  {
   "cell_type": "code",
   "execution_count": 333,
   "outputs": [
    {
     "data": {
      "text/plain": "Parameter containing:\ntensor([[-0.0164,  0.0149,  0.0121,  ..., -0.0135, -0.0038,  0.0002],\n        [ 0.0115,  0.0014,  0.0051,  ..., -0.0141, -0.0063, -0.0060],\n        [-0.0099,  0.0091, -0.0016,  ...,  0.0149, -0.0142, -0.0043],\n        ...,\n        [ 0.0119, -0.0042,  0.0209,  ...,  0.0135,  0.0135,  0.0173],\n        [-0.0136,  0.0200,  0.0035,  ..., -0.0014, -0.0106, -0.0118],\n        [-0.0035,  0.0047,  0.0099,  ...,  0.0006, -0.0003, -0.0056]],\n       requires_grad=True)"
     },
     "execution_count": 333,
     "metadata": {},
     "output_type": "execute_result"
    }
   ],
   "source": [
    "model.get_submodule('dense1').get_submodule('0').weight"
   ],
   "metadata": {
    "collapsed": false,
    "pycharm": {
     "name": "#%%\n"
    }
   }
  },
  {
   "cell_type": "markdown",
   "source": [
    "### parameters"
   ],
   "metadata": {
    "collapsed": false,
    "pycharm": {
     "name": "#%% md\n"
    }
   }
  },
  {
   "cell_type": "code",
   "execution_count": 334,
   "outputs": [
    {
     "name": "stdout",
     "output_type": "stream",
     "text": [
      "Parameter containing:\n",
      "tensor([1., 2., 3.], requires_grad=True)\n",
      "Parameter containing:\n",
      "tensor([[-0.0164,  0.0149,  0.0121,  ..., -0.0135, -0.0038,  0.0002],\n",
      "        [ 0.0115,  0.0014,  0.0051,  ..., -0.0141, -0.0063, -0.0060],\n",
      "        [-0.0099,  0.0091, -0.0016,  ...,  0.0149, -0.0142, -0.0043],\n",
      "        ...,\n",
      "        [ 0.0119, -0.0042,  0.0209,  ...,  0.0135,  0.0135,  0.0173],\n",
      "        [-0.0136,  0.0200,  0.0035,  ..., -0.0014, -0.0106, -0.0118],\n",
      "        [-0.0035,  0.0047,  0.0099,  ...,  0.0006, -0.0003, -0.0056]],\n",
      "       requires_grad=True)\n",
      "Parameter containing:\n",
      "tensor([-1.7423e-02,  1.4627e-02, -1.3636e-02, -1.8791e-02,  1.6488e-02,\n",
      "        -3.2479e-02,  3.2321e-02, -1.0541e-02,  8.6383e-03, -1.0464e-02,\n",
      "         3.2670e-02, -2.5496e-02,  2.9273e-02,  3.2772e-02, -2.5765e-02,\n",
      "        -2.8208e-02,  1.7517e-03, -1.4240e-02, -1.8077e-02,  1.4354e-02,\n",
      "        -1.2102e-02, -9.7449e-03, -1.2374e-02,  2.6612e-03, -2.9905e-02,\n",
      "        -1.9698e-02, -1.6822e-02, -1.0067e-02,  7.1045e-03, -2.6527e-03,\n",
      "        -1.5784e-02,  3.4243e-03, -2.4851e-03, -4.2463e-03, -2.6164e-02,\n",
      "         1.0425e-02, -1.8461e-02,  1.5714e-02, -2.9452e-02, -2.4513e-02,\n",
      "        -5.1754e-04, -9.0046e-03,  1.4222e-02,  1.1364e-02,  2.2399e-02,\n",
      "         5.3702e-03,  2.5735e-02,  1.6560e-02,  2.3396e-02, -8.0697e-03,\n",
      "        -8.7140e-03,  5.0275e-03,  4.0489e-03, -5.0810e-03,  1.7170e-02,\n",
      "        -3.5041e-02, -5.0996e-03, -2.8784e-03,  3.0633e-02, -7.8396e-03,\n",
      "        -1.4619e-02, -3.3259e-02, -1.0393e-02, -7.6205e-03,  2.1485e-02,\n",
      "        -1.0017e-04,  6.6147e-04, -8.4938e-03, -2.8830e-05, -2.4731e-02,\n",
      "         2.1640e-02,  3.3426e-02,  1.8386e-02, -3.2524e-04,  1.8608e-02,\n",
      "         1.2321e-02, -1.0018e-02, -2.8943e-02, -8.7565e-03,  2.6321e-02,\n",
      "        -2.6396e-02,  3.2843e-02,  1.8246e-02, -3.2232e-02, -3.0386e-02,\n",
      "        -3.1888e-02,  2.9493e-02,  1.7755e-02, -5.9304e-03, -2.3744e-02,\n",
      "        -3.3864e-02,  5.0134e-03, -1.0304e-02,  1.0579e-02, -1.6938e-02,\n",
      "        -7.3908e-03, -1.1627e-02,  2.8339e-02, -1.7245e-02, -3.3025e-02,\n",
      "        -2.7532e-03,  8.2393e-03, -1.4957e-02,  2.4878e-03,  2.0877e-02,\n",
      "        -1.7866e-02, -2.0904e-02, -7.3391e-03,  1.8696e-02, -1.3581e-02,\n",
      "        -1.9874e-02, -3.3197e-02,  2.8998e-02,  8.5771e-03, -3.3847e-02,\n",
      "         1.0261e-02, -2.3203e-02,  2.6716e-02,  3.3615e-02,  3.7240e-03,\n",
      "        -1.1702e-02, -2.7832e-03,  1.8631e-03, -2.7792e-02,  6.6847e-03,\n",
      "         3.3567e-02, -2.2042e-03,  1.8630e-02, -8.5962e-03, -5.0484e-03,\n",
      "         1.2995e-02,  1.7434e-02,  1.5257e-02, -1.7001e-02, -4.1978e-03,\n",
      "        -2.2743e-02,  2.2444e-03,  2.0424e-02,  1.7457e-02, -3.5295e-02,\n",
      "        -1.7444e-02, -1.8764e-02,  3.3359e-02,  8.9633e-03,  2.1656e-02,\n",
      "         1.7843e-03,  2.9722e-02,  4.0878e-03, -1.2976e-02,  2.1531e-02,\n",
      "        -2.7808e-02,  5.1310e-03,  1.0381e-03,  8.5240e-03,  9.8372e-03,\n",
      "        -6.3424e-03,  2.0220e-02,  6.3731e-03,  1.1991e-02, -2.4603e-02,\n",
      "        -3.4314e-02, -1.9996e-02, -1.4883e-02,  1.0878e-02, -1.8003e-02,\n",
      "         2.8529e-02,  8.4309e-03,  7.7550e-03, -3.5431e-02,  1.7127e-02,\n",
      "         1.0924e-02, -2.3742e-02, -1.1595e-02,  2.3256e-02,  1.9851e-02,\n",
      "        -1.0356e-02, -9.0462e-03,  3.8197e-03,  1.0834e-02, -2.5397e-02,\n",
      "        -3.2364e-03,  3.4342e-02,  2.1604e-02,  1.0706e-02, -3.4802e-02,\n",
      "         1.9036e-02,  2.1176e-03, -2.8953e-02, -2.9768e-02,  9.3993e-03,\n",
      "        -2.0551e-03,  2.4620e-02,  1.6391e-02, -2.5996e-02,  2.1311e-02,\n",
      "        -2.1930e-02,  3.4564e-02,  3.3290e-02, -2.8032e-02,  2.9651e-02,\n",
      "        -2.0249e-02, -3.4113e-02,  2.8825e-02,  1.0768e-02, -2.2043e-02,\n",
      "        -3.1479e-02,  3.1553e-02, -4.2258e-03,  1.7990e-02, -9.6760e-03,\n",
      "         5.7772e-03, -1.4041e-02,  7.8629e-04,  3.2726e-02, -1.2444e-02,\n",
      "        -2.1252e-02, -7.4923e-03,  2.8081e-02, -2.3454e-02,  2.4320e-02,\n",
      "         6.2614e-03,  2.4958e-02, -3.1023e-02,  3.5680e-02,  1.1257e-02,\n",
      "         2.5873e-03,  3.2544e-02,  2.8134e-03,  9.7044e-03, -3.2504e-02,\n",
      "        -8.4401e-03, -2.2422e-02, -2.1685e-02,  1.6860e-02,  5.4113e-03,\n",
      "         2.1695e-02, -2.8833e-02, -1.1227e-02, -9.8894e-03,  1.3927e-02,\n",
      "        -1.2433e-02,  3.3759e-02,  1.8835e-02,  1.3782e-02, -3.2219e-02,\n",
      "        -1.1307e-02,  1.6667e-02, -6.8908e-03,  1.2914e-02, -2.7193e-02,\n",
      "         3.5459e-03,  9.6730e-03, -1.3133e-03, -2.9386e-02,  1.4040e-02,\n",
      "         2.9054e-02], requires_grad=True)\n",
      "Parameter containing:\n",
      "tensor([[-0.0004,  0.0041, -0.0039,  ..., -0.0046, -0.0099,  0.0157],\n",
      "        [-0.0016,  0.0069, -0.0133,  ...,  0.0039, -0.0045,  0.0044],\n",
      "        [-0.0075,  0.0056, -0.0033,  ...,  0.0047, -0.0174,  0.0044],\n",
      "        ...,\n",
      "        [-0.0157,  0.0063,  0.0094,  ...,  0.0008, -0.0067,  0.0038],\n",
      "        [ 0.0001, -0.0131, -0.0051,  ..., -0.0123, -0.0041, -0.0007],\n",
      "        [-0.0133,  0.0059, -0.0055,  ..., -0.0020, -0.0081,  0.0176]],\n",
      "       requires_grad=True)\n",
      "Parameter containing:\n",
      "tensor([ 0.0245,  0.0053, -0.0080,  0.0159,  0.0511,  0.0017, -0.0527,  0.0363,\n",
      "        -0.0500,  0.0381], requires_grad=True)\n"
     ]
    }
   ],
   "source": [
    "# iterate all parameters of model.\n",
    "for i in model.parameters():\n",
    "    print(i)"
   ],
   "metadata": {
    "collapsed": false,
    "pycharm": {
     "name": "#%%\n"
    }
   }
  },
  {
   "cell_type": "markdown",
   "source": [
    "### modules"
   ],
   "metadata": {
    "collapsed": false
   }
  },
  {
   "cell_type": "code",
   "execution_count": 336,
   "outputs": [
    {
     "name": "stdout",
     "output_type": "stream",
     "text": [
      "Net(\n",
      "  (dense1): Sequential(\n",
      "    (0): Linear(in_features=784, out_features=256, bias=True)\n",
      "    (1): ReLU(inplace=True)\n",
      "  )\n",
      "  (dense2): Sequential(\n",
      "    (0): Linear(in_features=256, out_features=10, bias=True)\n",
      "    (1): ReLU(inplace=True)\n",
      "  )\n",
      ")\n",
      "Sequential(\n",
      "  (0): Linear(in_features=784, out_features=256, bias=True)\n",
      "  (1): ReLU(inplace=True)\n",
      ")\n",
      "Linear(in_features=784, out_features=256, bias=True)\n",
      "ReLU(inplace=True)\n",
      "Sequential(\n",
      "  (0): Linear(in_features=256, out_features=10, bias=True)\n",
      "  (1): ReLU(inplace=True)\n",
      ")\n",
      "Linear(in_features=256, out_features=10, bias=True)\n",
      "ReLU(inplace=True)\n"
     ]
    }
   ],
   "source": [
    "# search all submdules in your model (iterate all)\n",
    "for i in model.modules():\n",
    "    print(i)"
   ],
   "metadata": {
    "collapsed": false,
    "pycharm": {
     "name": "#%%\n"
    }
   }
  },
  {
   "cell_type": "markdown",
   "source": [
    "### require_grad"
   ],
   "metadata": {
    "collapsed": false
   }
  },
  {
   "cell_type": "code",
   "execution_count": null,
   "outputs": [],
   "source": [
    "# with `parameters` method, change require_grad flag all your parameters of model."
   ],
   "metadata": {
    "collapsed": false,
    "pycharm": {
     "name": "#%%\n"
    }
   }
  },
  {
   "cell_type": "markdown",
   "source": [
    "### zero_grad"
   ],
   "metadata": {
    "collapsed": false
   }
  },
  {
   "cell_type": "code",
   "execution_count": null,
   "outputs": [],
   "source": [
    "# with `parameters` method, change grad  all your parameters of model zero."
   ],
   "metadata": {
    "collapsed": false,
    "pycharm": {
     "name": "#%%\n"
    }
   }
  }
 ],
 "metadata": {
  "kernelspec": {
   "display_name": "Python 3",
   "language": "python",
   "name": "python3"
  },
  "language_info": {
   "codemirror_mode": {
    "name": "ipython",
    "version": 2
   },
   "file_extension": ".py",
   "mimetype": "text/x-python",
   "name": "python",
   "nbconvert_exporter": "python",
   "pygments_lexer": "ipython2",
   "version": "2.7.6"
  }
 },
 "nbformat": 4,
 "nbformat_minor": 0
}