{
 "cells": [
  {
   "cell_type": "code",
   "execution_count": 120,
   "metadata": {
    "collapsed": true
   },
   "outputs": [],
   "source": [
    "# main libraries\n",
    "import os\n",
    "import numpy as np\n",
    "import matplotlib.pyplot as plt\n",
    "import torch\n",
    "from torch.utils.data import DataLoader\n",
    "from torch.utils.data import SubsetRandomSampler\n",
    "from torch.nn import functional as F\n",
    "from torch import nn\n",
    "from torch import optim\n",
    "import torchvision\n",
    "from torchvision import transforms, datasets"
   ]
  },
  {
   "cell_type": "code",
   "execution_count": 121,
   "outputs": [],
   "source": [
    "# custom libraries\n",
    "root_main = os.getcwd()\n",
    "os.chdir(\"..\")\n",
    "import TorchCommon as TC\n",
    "os.chdir(root_main)"
   ],
   "metadata": {
    "collapsed": false,
    "pycharm": {
     "name": "#%%\n"
    }
   }
  },
  {
   "cell_type": "code",
   "execution_count": 145,
   "outputs": [],
   "source": [
    "# main pyperparametrs\n",
    "L = 28\n",
    "Fin = 28\n",
    "Fh = 256\n",
    "num_layer = 2\n",
    "Fout = 10\n",
    "\n",
    "\n",
    "valid_size=0.2\n",
    "batch_size=64\n",
    "epochs=20\n",
    "lr=0.1\n",
    "nrm_mean=0.5\n",
    "nrm_std=0.5\n",
    "num_workers=0\n",
    "\n",
    "root_ds = \"D:\\GitHub\\pytorch-lab\\Dataset\" # dataset root\n",
    "root_bm = \"D:\\GitHub\\pytorch-lab\\Best_Models\" # best models root"
   ],
   "metadata": {
    "collapsed": false,
    "pycharm": {
     "name": "#%%\n"
    }
   }
  },
  {
   "cell_type": "code",
   "execution_count": 146,
   "outputs": [],
   "source": [
    "device = torch.device('cuda' if torch.cuda.is_available() else 'cpu')"
   ],
   "metadata": {
    "collapsed": false,
    "pycharm": {
     "name": "#%%\n"
    }
   }
  },
  {
   "cell_type": "code",
   "execution_count": 147,
   "outputs": [],
   "source": [
    "# transform\n",
    "trans=transforms.Compose([\n",
    "    transforms.ToTensor(),\n",
    "    transforms.ConvertImageDtype(torch.float),\n",
    "    transforms.Normalize((nrm_mean,) , (nrm_std,))\n",
    "])"
   ],
   "metadata": {
    "collapsed": false,
    "pycharm": {
     "name": "#%%\n"
    }
   }
  },
  {
   "cell_type": "code",
   "execution_count": 148,
   "outputs": [],
   "source": [
    "#load dataset\n",
    "train_data=datasets.MNIST(root=root_ds,\n",
    "                          train=True, transform=trans, download=True)\n",
    "\n",
    "test_data=datasets.MNIST(root=root_ds,\n",
    "                          train=False, transform=trans, download=True)"
   ],
   "metadata": {
    "collapsed": false,
    "pycharm": {
     "name": "#%%\n"
    }
   }
  },
  {
   "cell_type": "code",
   "execution_count": 149,
   "outputs": [],
   "source": [
    "#sampler\n",
    "num_train = len(train_data)\n",
    "indices = list(range(num_train))\n",
    "split = int(np.floor(valid_size * num_train))\n",
    "train_idx, valid_idx = indices[split:], indices[:split]\n",
    "\n",
    "# define samplers for obtaining training and validation batches\n",
    "train_sampler = SubsetRandomSampler(train_idx)\n",
    "valid_sampler = SubsetRandomSampler(valid_idx)"
   ],
   "metadata": {
    "collapsed": false,
    "pycharm": {
     "name": "#%%\n"
    }
   }
  },
  {
   "cell_type": "code",
   "execution_count": 150,
   "outputs": [],
   "source": [
    "#dataloader\n",
    "train_loader=DataLoader(train_data, batch_size= batch_size, num_workers=num_workers, sampler=train_sampler)\n",
    "valid_loader=DataLoader(train_data, batch_size= batch_size, num_workers=num_workers, sampler=valid_sampler)\n",
    "test_loader =DataLoader(test_data,  batch_size= batch_size, num_workers=num_workers, shuffle=True)"
   ],
   "metadata": {
    "collapsed": false,
    "pycharm": {
     "name": "#%%\n"
    }
   }
  },
  {
   "cell_type": "code",
   "execution_count": 151,
   "outputs": [],
   "source": [
    "class Net(nn.Module):\n",
    "    def __init__(self, L, Fin, Fh, num_layer, Fout):\n",
    "        super(Net, self).__init__()\n",
    "\n",
    "        self.L = L\n",
    "        self.Fin = Fin\n",
    "        self.Fh = Fh\n",
    "        self.num_layer = num_layer\n",
    "        self.Fout = Fout\n",
    "\n",
    "        self.rnn = nn.RNN (self.Fin, self.Fh, self.num_layer, batch_first=True)\n",
    "        self.fc = nn.Linear(self.Fh * self.L, self.Fout)\n",
    "\n",
    "    def forward(self, x):\n",
    "        # Don't use view\n",
    "        x = x.reshape(-1, self.L, self.Fin)\n",
    "        x, _ = self.rnn(x)\n",
    "        x = x.reshape(x.shape[0], -1)\n",
    "        x = self.fc(x)\n",
    "        return x"
   ],
   "metadata": {
    "collapsed": false,
    "pycharm": {
     "name": "#%%\n"
    }
   }
  },
  {
   "cell_type": "code",
   "execution_count": 152,
   "outputs": [],
   "source": [
    "#create model and set loss function and optimizer\n",
    "model=Net(L, Fin, Fh, num_layer,Fout).to(device)\n",
    "criterion =nn.CrossEntropyLoss()\n",
    "optimizer=optim.SGD(model.parameters(), lr=lr)"
   ],
   "metadata": {
    "collapsed": false,
    "pycharm": {
     "name": "#%%\n"
    }
   }
  },
  {
   "cell_type": "code",
   "execution_count": 153,
   "outputs": [
    {
     "name": "stdout",
     "output_type": "stream",
     "text": [
      "############################################################\n",
      "###### Epoch 1 #############################################\n",
      "############################################################\n"
     ]
    },
    {
     "data": {
      "text/plain": "  0%|          | 0/750 [00:00<?, ?it/s]",
      "application/vnd.jupyter.widget-view+json": {
       "version_major": 2,
       "version_minor": 0,
       "model_id": "2c685a2924f047a48a33ca530924d0fe"
      }
     },
     "metadata": {},
     "output_type": "display_data"
    },
    {
     "name": "stdout",
     "output_type": "stream",
     "text": [
      "Loss_Train: 0.36\tAcc_Train : 0.89\n"
     ]
    },
    {
     "data": {
      "text/plain": "  0%|          | 0/188 [00:00<?, ?it/s]",
      "application/vnd.jupyter.widget-view+json": {
       "version_major": 2,
       "version_minor": 0,
       "model_id": "eed7baafc35b4c009cc0f33bd34e634d"
      }
     },
     "metadata": {},
     "output_type": "display_data"
    },
    {
     "name": "stdout",
     "output_type": "stream",
     "text": [
      "Loss_Valid: 0.22\tAcc_Valid : 0.94\n",
      "\n",
      "Save Model: YES\n",
      "############################################################\n",
      "###### Epoch 2 #############################################\n",
      "############################################################\n"
     ]
    },
    {
     "data": {
      "text/plain": "  0%|          | 0/750 [00:00<?, ?it/s]",
      "application/vnd.jupyter.widget-view+json": {
       "version_major": 2,
       "version_minor": 0,
       "model_id": "6687b27991d44586a5e7b44453ee80b7"
      }
     },
     "metadata": {},
     "output_type": "display_data"
    },
    {
     "name": "stdout",
     "output_type": "stream",
     "text": [
      "Loss_Train: 0.16\tAcc_Train : 0.95\n"
     ]
    },
    {
     "data": {
      "text/plain": "  0%|          | 0/188 [00:00<?, ?it/s]",
      "application/vnd.jupyter.widget-view+json": {
       "version_major": 2,
       "version_minor": 0,
       "model_id": "4ad0a0b37b4248b3aeb2b4761f9a5ff6"
      }
     },
     "metadata": {},
     "output_type": "display_data"
    },
    {
     "name": "stdout",
     "output_type": "stream",
     "text": [
      "Loss_Valid: 0.13\tAcc_Valid : 0.96\n",
      "\n",
      "Save Model: YES\n",
      "############################################################\n",
      "###### Epoch 3 #############################################\n",
      "############################################################\n"
     ]
    },
    {
     "data": {
      "text/plain": "  0%|          | 0/750 [00:00<?, ?it/s]",
      "application/vnd.jupyter.widget-view+json": {
       "version_major": 2,
       "version_minor": 0,
       "model_id": "d31b8b139b4b43abbed8b3e00ec67cd5"
      }
     },
     "metadata": {},
     "output_type": "display_data"
    },
    {
     "name": "stdout",
     "output_type": "stream",
     "text": [
      "Loss_Train: 0.11\tAcc_Train : 0.97\n"
     ]
    },
    {
     "data": {
      "text/plain": "  0%|          | 0/188 [00:00<?, ?it/s]",
      "application/vnd.jupyter.widget-view+json": {
       "version_major": 2,
       "version_minor": 0,
       "model_id": "1fbb52f14cd84126978c1159d58117b0"
      }
     },
     "metadata": {},
     "output_type": "display_data"
    },
    {
     "name": "stdout",
     "output_type": "stream",
     "text": [
      "Loss_Valid: 0.09\tAcc_Valid : 0.97\n",
      "\n",
      "Save Model: YES\n",
      "############################################################\n",
      "###### Epoch 4 #############################################\n",
      "############################################################\n"
     ]
    },
    {
     "data": {
      "text/plain": "  0%|          | 0/750 [00:00<?, ?it/s]",
      "application/vnd.jupyter.widget-view+json": {
       "version_major": 2,
       "version_minor": 0,
       "model_id": "5d18898040684fb0b01859c87f8b5d7b"
      }
     },
     "metadata": {},
     "output_type": "display_data"
    },
    {
     "name": "stdout",
     "output_type": "stream",
     "text": [
      "Loss_Train: 0.08\tAcc_Train : 0.98\n"
     ]
    },
    {
     "data": {
      "text/plain": "  0%|          | 0/188 [00:00<?, ?it/s]",
      "application/vnd.jupyter.widget-view+json": {
       "version_major": 2,
       "version_minor": 0,
       "model_id": "04b7415d6724471a9a4c1ff3d939172a"
      }
     },
     "metadata": {},
     "output_type": "display_data"
    },
    {
     "name": "stdout",
     "output_type": "stream",
     "text": [
      "Loss_Valid: 0.09\tAcc_Valid : 0.98\n",
      "\n",
      "Save Model: YES\n",
      "############################################################\n",
      "###### Epoch 5 #############################################\n",
      "############################################################\n"
     ]
    },
    {
     "data": {
      "text/plain": "  0%|          | 0/750 [00:00<?, ?it/s]",
      "application/vnd.jupyter.widget-view+json": {
       "version_major": 2,
       "version_minor": 0,
       "model_id": "8c2edd90a9a640418c338b45b51853f1"
      }
     },
     "metadata": {},
     "output_type": "display_data"
    },
    {
     "name": "stdout",
     "output_type": "stream",
     "text": [
      "Loss_Train: 0.07\tAcc_Train : 0.98\n"
     ]
    },
    {
     "data": {
      "text/plain": "  0%|          | 0/188 [00:00<?, ?it/s]",
      "application/vnd.jupyter.widget-view+json": {
       "version_major": 2,
       "version_minor": 0,
       "model_id": "c1d5723131b74f21ab0fb944a710a869"
      }
     },
     "metadata": {},
     "output_type": "display_data"
    },
    {
     "name": "stdout",
     "output_type": "stream",
     "text": [
      "Loss_Valid: 0.08\tAcc_Valid : 0.98\n",
      "\n",
      "Save Model: YES\n",
      "############################################################\n",
      "###### Epoch 6 #############################################\n",
      "############################################################\n"
     ]
    },
    {
     "data": {
      "text/plain": "  0%|          | 0/750 [00:00<?, ?it/s]",
      "application/vnd.jupyter.widget-view+json": {
       "version_major": 2,
       "version_minor": 0,
       "model_id": "122f82fb69a045c282c5ca8452036078"
      }
     },
     "metadata": {},
     "output_type": "display_data"
    },
    {
     "name": "stdout",
     "output_type": "stream",
     "text": [
      "Loss_Train: 0.06\tAcc_Train : 0.98\n"
     ]
    },
    {
     "data": {
      "text/plain": "  0%|          | 0/188 [00:00<?, ?it/s]",
      "application/vnd.jupyter.widget-view+json": {
       "version_major": 2,
       "version_minor": 0,
       "model_id": "db1c12b3736640df9acf2257fe55e887"
      }
     },
     "metadata": {},
     "output_type": "display_data"
    },
    {
     "name": "stdout",
     "output_type": "stream",
     "text": [
      "Loss_Valid: 0.07\tAcc_Valid : 0.98\n",
      "\n",
      "Save Model: YES\n",
      "############################################################\n",
      "###### Epoch 7 #############################################\n",
      "############################################################\n"
     ]
    },
    {
     "data": {
      "text/plain": "  0%|          | 0/750 [00:00<?, ?it/s]",
      "application/vnd.jupyter.widget-view+json": {
       "version_major": 2,
       "version_minor": 0,
       "model_id": "10b045e2fdba45739f25a2758e901062"
      }
     },
     "metadata": {},
     "output_type": "display_data"
    },
    {
     "name": "stdout",
     "output_type": "stream",
     "text": [
      "Loss_Train: 0.05\tAcc_Train : 0.99\n"
     ]
    },
    {
     "data": {
      "text/plain": "  0%|          | 0/188 [00:00<?, ?it/s]",
      "application/vnd.jupyter.widget-view+json": {
       "version_major": 2,
       "version_minor": 0,
       "model_id": "d516ad30ef2d4c54a1943a747ef2b153"
      }
     },
     "metadata": {},
     "output_type": "display_data"
    },
    {
     "name": "stdout",
     "output_type": "stream",
     "text": [
      "Loss_Valid: 0.07\tAcc_Valid : 0.98\n",
      "\n",
      "Save Model: YES\n",
      "############################################################\n",
      "###### Epoch 8 #############################################\n",
      "############################################################\n"
     ]
    },
    {
     "data": {
      "text/plain": "  0%|          | 0/750 [00:00<?, ?it/s]",
      "application/vnd.jupyter.widget-view+json": {
       "version_major": 2,
       "version_minor": 0,
       "model_id": "b71c06ef6acf4c63a1d9a5b35de8d7fe"
      }
     },
     "metadata": {},
     "output_type": "display_data"
    },
    {
     "name": "stdout",
     "output_type": "stream",
     "text": [
      "Loss_Train: 0.04\tAcc_Train : 0.99\n"
     ]
    },
    {
     "data": {
      "text/plain": "  0%|          | 0/188 [00:00<?, ?it/s]",
      "application/vnd.jupyter.widget-view+json": {
       "version_major": 2,
       "version_minor": 0,
       "model_id": "71eda4c17fe84cd9ba18765434bae974"
      }
     },
     "metadata": {},
     "output_type": "display_data"
    },
    {
     "name": "stdout",
     "output_type": "stream",
     "text": [
      "Loss_Valid: 0.08\tAcc_Valid : 0.98\n",
      "\n",
      "Save Model: NO\n",
      "############################################################\n",
      "###### Epoch 9 #############################################\n",
      "############################################################\n"
     ]
    },
    {
     "data": {
      "text/plain": "  0%|          | 0/750 [00:00<?, ?it/s]",
      "application/vnd.jupyter.widget-view+json": {
       "version_major": 2,
       "version_minor": 0,
       "model_id": "ed93a59ecc6f4fb58dcc2a4552b479e5"
      }
     },
     "metadata": {},
     "output_type": "display_data"
    },
    {
     "name": "stdout",
     "output_type": "stream",
     "text": [
      "Loss_Train: 0.03\tAcc_Train : 0.99\n"
     ]
    },
    {
     "data": {
      "text/plain": "  0%|          | 0/188 [00:00<?, ?it/s]",
      "application/vnd.jupyter.widget-view+json": {
       "version_major": 2,
       "version_minor": 0,
       "model_id": "45ded2f5209849ebad740437ed0b2675"
      }
     },
     "metadata": {},
     "output_type": "display_data"
    },
    {
     "name": "stdout",
     "output_type": "stream",
     "text": [
      "Loss_Valid: 0.10\tAcc_Valid : 0.97\n",
      "\n",
      "Save Model: NO\n",
      "############################################################\n",
      "###### Epoch 10 #############################################\n",
      "############################################################\n"
     ]
    },
    {
     "data": {
      "text/plain": "  0%|          | 0/750 [00:00<?, ?it/s]",
      "application/vnd.jupyter.widget-view+json": {
       "version_major": 2,
       "version_minor": 0,
       "model_id": "6854e784cf8146259e2e7ab1e26b3983"
      }
     },
     "metadata": {},
     "output_type": "display_data"
    },
    {
     "name": "stdout",
     "output_type": "stream",
     "text": [
      "Loss_Train: 0.03\tAcc_Train : 0.99\n"
     ]
    },
    {
     "data": {
      "text/plain": "  0%|          | 0/188 [00:00<?, ?it/s]",
      "application/vnd.jupyter.widget-view+json": {
       "version_major": 2,
       "version_minor": 0,
       "model_id": "829bbc98bc754a33a7b0c9ce6484ab00"
      }
     },
     "metadata": {},
     "output_type": "display_data"
    },
    {
     "name": "stdout",
     "output_type": "stream",
     "text": [
      "Loss_Valid: 0.06\tAcc_Valid : 0.98\n",
      "\n",
      "Save Model: YES\n",
      "############################################################\n",
      "###### Epoch 11 #############################################\n",
      "############################################################\n"
     ]
    },
    {
     "data": {
      "text/plain": "  0%|          | 0/750 [00:00<?, ?it/s]",
      "application/vnd.jupyter.widget-view+json": {
       "version_major": 2,
       "version_minor": 0,
       "model_id": "703a9bbe6218442e9e65fb39b3b81e22"
      }
     },
     "metadata": {},
     "output_type": "display_data"
    },
    {
     "name": "stdout",
     "output_type": "stream",
     "text": [
      "Loss_Train: 0.02\tAcc_Train : 0.99\n"
     ]
    },
    {
     "data": {
      "text/plain": "  0%|          | 0/188 [00:00<?, ?it/s]",
      "application/vnd.jupyter.widget-view+json": {
       "version_major": 2,
       "version_minor": 0,
       "model_id": "d181661849df408daa6ce43fd5513595"
      }
     },
     "metadata": {},
     "output_type": "display_data"
    },
    {
     "name": "stdout",
     "output_type": "stream",
     "text": [
      "Loss_Valid: 0.08\tAcc_Valid : 0.98\n",
      "\n",
      "Save Model: NO\n",
      "############################################################\n",
      "###### Epoch 12 #############################################\n",
      "############################################################\n"
     ]
    },
    {
     "data": {
      "text/plain": "  0%|          | 0/750 [00:00<?, ?it/s]",
      "application/vnd.jupyter.widget-view+json": {
       "version_major": 2,
       "version_minor": 0,
       "model_id": "3328f2a9fbd246dba5e5813feffd29b8"
      }
     },
     "metadata": {},
     "output_type": "display_data"
    },
    {
     "name": "stdout",
     "output_type": "stream",
     "text": [
      "Loss_Train: 0.02\tAcc_Train : 0.99\n"
     ]
    },
    {
     "data": {
      "text/plain": "  0%|          | 0/188 [00:00<?, ?it/s]",
      "application/vnd.jupyter.widget-view+json": {
       "version_major": 2,
       "version_minor": 0,
       "model_id": "f1d6000e8fb74d71a1085ae7e8a9f9c9"
      }
     },
     "metadata": {},
     "output_type": "display_data"
    },
    {
     "name": "stdout",
     "output_type": "stream",
     "text": [
      "Loss_Valid: 0.06\tAcc_Valid : 0.98\n",
      "\n",
      "Save Model: NO\n",
      "############################################################\n",
      "###### Epoch 13 #############################################\n",
      "############################################################\n"
     ]
    },
    {
     "data": {
      "text/plain": "  0%|          | 0/750 [00:00<?, ?it/s]",
      "application/vnd.jupyter.widget-view+json": {
       "version_major": 2,
       "version_minor": 0,
       "model_id": "8f61d70fbed343bca424d96ab0e65c1a"
      }
     },
     "metadata": {},
     "output_type": "display_data"
    },
    {
     "name": "stdout",
     "output_type": "stream",
     "text": [
      "Loss_Train: 0.02\tAcc_Train : 0.99\n"
     ]
    },
    {
     "data": {
      "text/plain": "  0%|          | 0/188 [00:00<?, ?it/s]",
      "application/vnd.jupyter.widget-view+json": {
       "version_major": 2,
       "version_minor": 0,
       "model_id": "f4b7f22debe04cf7bd6b92eb04d8ecee"
      }
     },
     "metadata": {},
     "output_type": "display_data"
    },
    {
     "name": "stdout",
     "output_type": "stream",
     "text": [
      "Loss_Valid: 0.07\tAcc_Valid : 0.98\n",
      "\n",
      "Save Model: NO\n",
      "############################################################\n",
      "###### Epoch 14 #############################################\n",
      "############################################################\n"
     ]
    },
    {
     "data": {
      "text/plain": "  0%|          | 0/750 [00:00<?, ?it/s]",
      "application/vnd.jupyter.widget-view+json": {
       "version_major": 2,
       "version_minor": 0,
       "model_id": "58b299b42a824f8b9664197f89cf7e95"
      }
     },
     "metadata": {},
     "output_type": "display_data"
    },
    {
     "name": "stdout",
     "output_type": "stream",
     "text": [
      "Loss_Train: 0.01\tAcc_Train : 1.00\n"
     ]
    },
    {
     "data": {
      "text/plain": "  0%|          | 0/188 [00:00<?, ?it/s]",
      "application/vnd.jupyter.widget-view+json": {
       "version_major": 2,
       "version_minor": 0,
       "model_id": "b7b587d6ad3048b7b43a191e54ece490"
      }
     },
     "metadata": {},
     "output_type": "display_data"
    },
    {
     "name": "stdout",
     "output_type": "stream",
     "text": [
      "Loss_Valid: 0.06\tAcc_Valid : 0.98\n",
      "\n",
      "Save Model: YES\n",
      "############################################################\n",
      "###### Epoch 15 #############################################\n",
      "############################################################\n"
     ]
    },
    {
     "data": {
      "text/plain": "  0%|          | 0/750 [00:00<?, ?it/s]",
      "application/vnd.jupyter.widget-view+json": {
       "version_major": 2,
       "version_minor": 0,
       "model_id": "85579b7c5d754fbebd5ae8de01ea3ae9"
      }
     },
     "metadata": {},
     "output_type": "display_data"
    },
    {
     "name": "stdout",
     "output_type": "stream",
     "text": [
      "Loss_Train: 0.01\tAcc_Train : 1.00\n"
     ]
    },
    {
     "data": {
      "text/plain": "  0%|          | 0/188 [00:00<?, ?it/s]",
      "application/vnd.jupyter.widget-view+json": {
       "version_major": 2,
       "version_minor": 0,
       "model_id": "4e04ad26f6484dcaa4511686fa8ee85f"
      }
     },
     "metadata": {},
     "output_type": "display_data"
    },
    {
     "name": "stdout",
     "output_type": "stream",
     "text": [
      "Loss_Valid: 0.06\tAcc_Valid : 0.99\n",
      "\n",
      "Save Model: YES\n",
      "############################################################\n",
      "###### Epoch 16 #############################################\n",
      "############################################################\n"
     ]
    },
    {
     "data": {
      "text/plain": "  0%|          | 0/750 [00:00<?, ?it/s]",
      "application/vnd.jupyter.widget-view+json": {
       "version_major": 2,
       "version_minor": 0,
       "model_id": "b1ad64da13f447138f8adfa9f024e229"
      }
     },
     "metadata": {},
     "output_type": "display_data"
    },
    {
     "name": "stdout",
     "output_type": "stream",
     "text": [
      "Loss_Train: 0.01\tAcc_Train : 1.00\n"
     ]
    },
    {
     "data": {
      "text/plain": "  0%|          | 0/188 [00:00<?, ?it/s]",
      "application/vnd.jupyter.widget-view+json": {
       "version_major": 2,
       "version_minor": 0,
       "model_id": "03012f0e13214aa6a58aeb74d5011606"
      }
     },
     "metadata": {},
     "output_type": "display_data"
    },
    {
     "name": "stdout",
     "output_type": "stream",
     "text": [
      "Loss_Valid: 0.05\tAcc_Valid : 0.99\n",
      "\n",
      "Save Model: YES\n",
      "############################################################\n",
      "###### Epoch 17 #############################################\n",
      "############################################################\n"
     ]
    },
    {
     "data": {
      "text/plain": "  0%|          | 0/750 [00:00<?, ?it/s]",
      "application/vnd.jupyter.widget-view+json": {
       "version_major": 2,
       "version_minor": 0,
       "model_id": "43aab7d01c0448d7a696d010cca4a49b"
      }
     },
     "metadata": {},
     "output_type": "display_data"
    },
    {
     "name": "stdout",
     "output_type": "stream",
     "text": [
      "Loss_Train: 0.01\tAcc_Train : 1.00\n"
     ]
    },
    {
     "data": {
      "text/plain": "  0%|          | 0/188 [00:00<?, ?it/s]",
      "application/vnd.jupyter.widget-view+json": {
       "version_major": 2,
       "version_minor": 0,
       "model_id": "fb3123768a8648938f8beab6e3410592"
      }
     },
     "metadata": {},
     "output_type": "display_data"
    },
    {
     "name": "stdout",
     "output_type": "stream",
     "text": [
      "Loss_Valid: 0.06\tAcc_Valid : 0.99\n",
      "\n",
      "Save Model: NO\n",
      "############################################################\n",
      "###### Epoch 18 #############################################\n",
      "############################################################\n"
     ]
    },
    {
     "data": {
      "text/plain": "  0%|          | 0/750 [00:00<?, ?it/s]",
      "application/vnd.jupyter.widget-view+json": {
       "version_major": 2,
       "version_minor": 0,
       "model_id": "337fa915cc444da5a46f2e27cdf2ab76"
      }
     },
     "metadata": {},
     "output_type": "display_data"
    },
    {
     "name": "stdout",
     "output_type": "stream",
     "text": [
      "Loss_Train: 0.01\tAcc_Train : 1.00\n"
     ]
    },
    {
     "data": {
      "text/plain": "  0%|          | 0/188 [00:00<?, ?it/s]",
      "application/vnd.jupyter.widget-view+json": {
       "version_major": 2,
       "version_minor": 0,
       "model_id": "5681494583254a39aedc5f9d63926313"
      }
     },
     "metadata": {},
     "output_type": "display_data"
    },
    {
     "name": "stdout",
     "output_type": "stream",
     "text": [
      "Loss_Valid: 0.06\tAcc_Valid : 0.99\n",
      "\n",
      "Save Model: NO\n",
      "############################################################\n",
      "###### Epoch 19 #############################################\n",
      "############################################################\n"
     ]
    },
    {
     "data": {
      "text/plain": "  0%|          | 0/750 [00:00<?, ?it/s]",
      "application/vnd.jupyter.widget-view+json": {
       "version_major": 2,
       "version_minor": 0,
       "model_id": "eed1db34b75d40e5ae31386def69f54c"
      }
     },
     "metadata": {},
     "output_type": "display_data"
    },
    {
     "name": "stdout",
     "output_type": "stream",
     "text": [
      "Loss_Train: 0.00\tAcc_Train : 1.00\n"
     ]
    },
    {
     "data": {
      "text/plain": "  0%|          | 0/188 [00:00<?, ?it/s]",
      "application/vnd.jupyter.widget-view+json": {
       "version_major": 2,
       "version_minor": 0,
       "model_id": "741d04af45554231ae6e7903ae0447af"
      }
     },
     "metadata": {},
     "output_type": "display_data"
    },
    {
     "name": "stdout",
     "output_type": "stream",
     "text": [
      "Loss_Valid: 0.05\tAcc_Valid : 0.99\n",
      "\n",
      "Save Model: NO\n",
      "############################################################\n",
      "###### Epoch 20 #############################################\n",
      "############################################################\n"
     ]
    },
    {
     "data": {
      "text/plain": "  0%|          | 0/750 [00:00<?, ?it/s]",
      "application/vnd.jupyter.widget-view+json": {
       "version_major": 2,
       "version_minor": 0,
       "model_id": "a042bb7ff66846e0a23e717a3cf980fc"
      }
     },
     "metadata": {},
     "output_type": "display_data"
    },
    {
     "name": "stdout",
     "output_type": "stream",
     "text": [
      "Loss_Train: 0.00\tAcc_Train : 1.00\n"
     ]
    },
    {
     "data": {
      "text/plain": "  0%|          | 0/188 [00:00<?, ?it/s]",
      "application/vnd.jupyter.widget-view+json": {
       "version_major": 2,
       "version_minor": 0,
       "model_id": "65db7409fd4c418eae52bdd76ef02abc"
      }
     },
     "metadata": {},
     "output_type": "display_data"
    },
    {
     "name": "stdout",
     "output_type": "stream",
     "text": [
      "Loss_Valid: 0.05\tAcc_Valid : 0.99\n",
      "\n",
      "Save Model: NO\n"
     ]
    }
   ],
   "source": [
    "loss_valid_min=np.Inf\n",
    "for epoch in range(1,epochs+1):\n",
    "    loss_train, acc_train = TC.train(model,train_loader, device, optimizer, criterion, epoch)\n",
    "    loss_valid, acc_valid = TC.valid(model, valid_loader, device, criterion)\n",
    "    loss_valid_min = TC.save_model(model, optimizer, epoch, root_bm, loss_valid_min, loss_valid)"
   ],
   "metadata": {
    "collapsed": false,
    "pycharm": {
     "name": "#%%\n"
    }
   }
  },
  {
   "cell_type": "code",
   "execution_count": null,
   "outputs": [],
   "source": [],
   "metadata": {
    "collapsed": false,
    "pycharm": {
     "name": "#%%\n"
    }
   }
  }
 ],
 "metadata": {
  "kernelspec": {
   "display_name": "Python 3",
   "language": "python",
   "name": "python3"
  },
  "language_info": {
   "codemirror_mode": {
    "name": "ipython",
    "version": 2
   },
   "file_extension": ".py",
   "mimetype": "text/x-python",
   "name": "python",
   "nbconvert_exporter": "python",
   "pygments_lexer": "ipython2",
   "version": "2.7.6"
  }
 },
 "nbformat": 4,
 "nbformat_minor": 0
}